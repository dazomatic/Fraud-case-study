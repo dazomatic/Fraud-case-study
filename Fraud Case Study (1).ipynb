{
 "cells": [
  {
   "cell_type": "code",
   "execution_count": 1,
   "id": "9f7b958c-b379-4b5a-9461-eed45fd54f31",
   "metadata": {},
   "outputs": [
    {
     "name": "stderr",
     "output_type": "stream",
     "text": [
      "/Users/darren.wong/Library/jupyterlab-desktop/jlab_server/lib/python3.8/site-packages/outdated/utils.py:14: OutdatedPackageWarning: The package pingouin is out of date. Your version is 0.5.3, the latest is 0.5.4.\n",
      "Set the environment variable OUTDATED_IGNORE=1 to disable these warnings.\n",
      "  return warn(\n"
     ]
    }
   ],
   "source": [
    "import pandas as pd\n",
    "import numpy as np\n",
    "import matplotlib.pyplot as plt\n",
    "import seaborn as sns\n",
    "import pingouin\n",
    "import datetime\n",
    "from sklearn.preprocessing import LabelEncoder, StandardScaler\n",
    "from sklearn.decomposition import PCA\n",
    "from sklearn.model_selection import train_test_split\n",
    "from sklearn.neighbors import KNeighborsClassifier\n",
    "from sklearn.model_selection import cross_val_score, KFold, RandomizedSearchCV, GridSearchCV\n",
    "from sklearn.metrics import classification_report, confusion_matrix, roc_curve, roc_auc_score\n",
    "from sklearn.linear_model import LogisticRegression\n",
    "from sklearn.pipeline import Pipeline, make_pipeline\n",
    "from sklearn.tree import DecisionTreeClassifier\n",
    "from sklearn.ensemble import RandomForestClassifier\n",
    "from sklearn.ensemble import VotingClassifier\n",
    "\n",
    "\n",
    "\n",
    "##Importing so we can run calculations on data"
   ]
  },
  {
   "cell_type": "code",
   "execution_count": 2,
   "id": "bf2b8bd1-7d57-4e35-b1a6-44a14953327f",
   "metadata": {},
   "outputs": [
    {
     "name": "stdout",
     "output_type": "stream",
     "text": [
      "Index(['transaction_id', 'time_of_purchase', 'purchase_amount', 'customer_id',\n",
      "       'fname', 'lname', 'age', 'addr_city', 'email', 'has_paid_before',\n",
      "       'annual_salary', 'type_of_goods', 'delivery_city', 'ip_country',\n",
      "       'is_fraud'],\n",
      "      dtype='object')\n"
     ]
    }
   ],
   "source": [
    "##importing data into a dataframe from pandas\n",
    "fraud_data = pd.read_csv('Documents/Python Practice/Case Study 2023 - Dataset - Klarna Overnight Case Study Data (1).csv')\n",
    "print(fraud_data.columns)\n",
    "\n",
    "#convert to categorical data and ordinal categorical data"
   ]
  },
  {
   "cell_type": "code",
   "execution_count": 3,
   "id": "45f8f4af-b495-4f9a-8162-34aab4b3b6fc",
   "metadata": {},
   "outputs": [
    {
     "name": "stdout",
     "output_type": "stream",
     "text": [
      "<class 'pandas.core.frame.DataFrame'>\n",
      "RangeIndex: 10277 entries, 0 to 10276\n",
      "Data columns (total 15 columns):\n",
      " #   Column            Non-Null Count  Dtype \n",
      "---  ------            --------------  ----- \n",
      " 0   transaction_id    10277 non-null  int64 \n",
      " 1   time_of_purchase  10277 non-null  object\n",
      " 2   purchase_amount   10277 non-null  int64 \n",
      " 3   customer_id       10277 non-null  int64 \n",
      " 4   fname             10277 non-null  object\n",
      " 5   lname             10277 non-null  object\n",
      " 6   age               10277 non-null  int64 \n",
      " 7   addr_city         10277 non-null  object\n",
      " 8   email             10277 non-null  object\n",
      " 9   has_paid_before   10277 non-null  object\n",
      " 10  annual_salary     10277 non-null  object\n",
      " 11  type_of_goods     10277 non-null  object\n",
      " 12  delivery_city     10277 non-null  object\n",
      " 13  ip_country        9673 non-null   object\n",
      " 14  is_fraud          10277 non-null  object\n",
      "dtypes: int64(4), object(11)\n",
      "memory usage: 1.2+ MB\n"
     ]
    }
   ],
   "source": [
    "fraud_data.info()\n",
    "#no null values, data is good - only missing IP country  - need to allocate 'unknown'"
   ]
  },
  {
   "cell_type": "code",
   "execution_count": 4,
   "id": "963f3abd-3f1f-41cc-afe3-8a4ea9d5663f",
   "metadata": {},
   "outputs": [],
   "source": [
    "#process to numerical data for is_fraud and has_paid\n",
    "le = LabelEncoder()\n",
    "fraud_data['is_fraud_enc'] = le.fit_transform(fraud_data['is_fraud'])\n",
    "fraud_data['has_paid_before_enc'] = le.fit_transform(fraud_data['has_paid_before'])\n",
    "\n",
    "#create dummy variables for ip_country and type_of_goods for machine learning\n",
    "ip_country = pd.get_dummies(fraud_data['ip_country'])\n",
    "type_of_goods = pd.get_dummies(fraud_data['type_of_goods'])\n",
    "addr_city = pd.get_dummies(fraud_data['addr_city'])\n",
    "delivery_city = pd.get_dummies(fraud_data['delivery_city'])\n",
    "\n",
    "fraud_data = pd.concat([fraud_data, ip_country], axis=1)\n",
    "fraud_data = pd.concat([fraud_data, type_of_goods], axis=1)\n",
    "fraud_data = pd.concat([fraud_data, addr_city], axis=1)\n",
    "fraud_data = pd.concat([fraud_data, delivery_city], axis=1)"
   ]
  },
  {
   "cell_type": "code",
   "execution_count": 5,
   "id": "509c834a-440f-495f-a7cd-165c1cc550ec",
   "metadata": {},
   "outputs": [
    {
     "name": "stdout",
     "output_type": "stream",
     "text": [
      "          DK     FI     NO     SE     UK     US\n",
      "0      False  False  False   True  False  False\n",
      "1      False  False  False   True  False  False\n",
      "2      False  False  False   True  False  False\n",
      "3      False  False  False   True  False  False\n",
      "4      False   True  False  False  False  False\n",
      "...      ...    ...    ...    ...    ...    ...\n",
      "10272  False  False  False  False  False  False\n",
      "10273  False  False  False  False  False  False\n",
      "10274  False  False  False  False  False  False\n",
      "10275  False  False  False  False  False  False\n",
      "10276  False  False  False  False  False  False\n",
      "\n",
      "[10277 rows x 6 columns]\n"
     ]
    }
   ],
   "source": [
    "print(ip_country)"
   ]
  },
  {
   "cell_type": "code",
   "execution_count": 6,
   "id": "c538a1af-8baa-4b0e-ba60-396395eff0be",
   "metadata": {},
   "outputs": [],
   "source": [
    "fraud_data['annual_salary'] = fraud_data['annual_salary'].replace('-', 0)\n",
    "\n",
    "\n",
    "fraud_dtypes = {'customer_id': 'category',\n",
    "                   'age': 'category', #ordinal category\n",
    "                   'addr_city': 'category',\n",
    "                   'has_paid_before': 'category', #convert to bool\n",
    "                   'annual_salary': 'int',#ordinal category\n",
    "                   'type_of_goods': 'category',\n",
    "                   'delivery_city': 'category',\n",
    "                   'ip_country': 'category',\n",
    "                   'is_fraud': 'category' #convert to bool\n",
    "                  }\n",
    "\n",
    "fraud_data = fraud_data.astype(fraud_dtypes)\n"
   ]
  },
  {
   "cell_type": "code",
   "execution_count": 7,
   "id": "8ed3456f-52b4-4b31-9deb-a68eff6ab940",
   "metadata": {},
   "outputs": [
    {
     "name": "stdout",
     "output_type": "stream",
     "text": [
      "0        16\n",
      "1        14\n",
      "2        12\n",
      "3        15\n",
      "4        16\n",
      "         ..\n",
      "10272    21\n",
      "10273    21\n",
      "10274    21\n",
      "10275    21\n",
      "10276    21\n",
      "Name: hours, Length: 10277, dtype: int64\n"
     ]
    }
   ],
   "source": [
    "fraud_data['time_of_purchase'] = pd.to_timedelta(fraud_data['time_of_purchase'])\n",
    "print(fraud_data['time_of_purchase'].dt.components['hours'])"
   ]
  },
  {
   "cell_type": "code",
   "execution_count": 8,
   "id": "5906ad6d-42a3-4f39-8c9f-f7fb49bb8aa8",
   "metadata": {},
   "outputs": [
    {
     "data": {
      "text/plain": [
       "dtype('int64')"
      ]
     },
     "execution_count": 8,
     "metadata": {},
     "output_type": "execute_result"
    }
   ],
   "source": [
    "fraud_data['annual_salary'].dtype"
   ]
  },
  {
   "cell_type": "code",
   "execution_count": 9,
   "id": "8465eb9c-acf5-4ccc-8fa3-b541710402dc",
   "metadata": {},
   "outputs": [],
   "source": [
    "# Using qcut() to group salaries (10? or less) ... and ages? use qcut for quantiles rather than cut with defined ranges\n",
    "\n",
    "\"\"\"group_names = ['0-125K','125K-500K','500K+']\n",
    "demographics['income_group'] = pd.qcut(demographics['household_income'], q = 3, labels = group_names)\n",
    "# Print income_group column\n",
    "demographics[['income_group','household_income']]\"\"\"\n",
    "\n",
    "# Using cut() - create category ranges and names .. as no salaries of 0.. min is 1000\n",
    "ranges = [-1,1,75000,150000,300000,np.inf]\n",
    "group_names = ['0','1-75k','75-150K','150K-300K','300K+']\n",
    "# Create income group column\n",
    "fraud_data['salary_bracket'] = pd.cut(fraud_data['annual_salary'], bins=ranges,labels=group_names)\n",
    "# Do the same for purchase_amount ? "
   ]
  },
  {
   "cell_type": "code",
   "execution_count": 10,
   "id": "0a334d59-deef-4c3b-8dc4-e432606ebda0",
   "metadata": {},
   "outputs": [],
   "source": [
    "\n",
    "salary_bracket = pd.get_dummies(fraud_data['salary_bracket'])\n",
    "fraud_data = pd.concat([fraud_data, salary_bracket], axis=1)"
   ]
  },
  {
   "cell_type": "code",
   "execution_count": 11,
   "id": "9ab42c70-8bc5-497a-8d57-8b0ab262dd4e",
   "metadata": {},
   "outputs": [
    {
     "name": "stdout",
     "output_type": "stream",
     "text": [
      "Index(['transaction_id', 'time_of_purchase', 'purchase_amount', 'customer_id',\n",
      "       'fname', 'lname', 'age', 'addr_city', 'email', 'has_paid_before',\n",
      "       'annual_salary', 'type_of_goods', 'delivery_city', 'ip_country',\n",
      "       'is_fraud', 'is_fraud_enc', 'has_paid_before_enc', 'DK', 'FI', 'NO',\n",
      "       'SE', 'UK', 'US', 'Books', 'Clothing', 'Dating', 'Electronics', 'Food',\n",
      "       'Tickets', 'Goteborg', 'Knivsta', 'Linköping', 'Lund', 'Malmö',\n",
      "       'Nykvarn', 'Stockholm', 'Uppsala', 'Västerås', 'Örebro', 'Goteborg',\n",
      "       'Knivsta', 'Linköping', 'Lund', 'Malmö', 'Nykvarn', 'Stockholm',\n",
      "       'Uppsala', 'Västerås', 'Örebro', 'salary_bracket', '0', '1-75k',\n",
      "       '75-150K', '150K-300K', '300K+'],\n",
      "      dtype='object')\n"
     ]
    }
   ],
   "source": [
    "print(fraud_data.columns)"
   ]
  },
  {
   "cell_type": "code",
   "execution_count": 12,
   "id": "0dc6ba4a-a1d1-4de2-bcb4-eac1e6cfbcff",
   "metadata": {},
   "outputs": [
    {
     "name": "stdout",
     "output_type": "stream",
     "text": [
      "   transaction_id time_of_purchase  purchase_amount customer_id   fname  \\\n",
      "0         2001563  0 days 16:52:11            15249        3941  Agneta   \n",
      "1         1997663  0 days 14:20:45             9334      122158  Agneta   \n",
      "2         2013263  0 days 12:26:00             8744       25977  Agneta   \n",
      "3         2009363  0 days 15:13:01             6779       31238  Agneta   \n",
      "4         1988563  0 days 16:08:04             4963       37499  Agneta   \n",
      "\n",
      "        lname age  addr_city                         email has_paid_before  \\\n",
      "0     Jansson  28  Stockholm    agneta.jansson@hotmail.com               t   \n",
      "1  Gustafsson  73      Malmö   agneta_gustafsson@gmail.com               f   \n",
      "2    Olofsson  60  Stockholm   agneta.olofsson@hotmail.com               t   \n",
      "3   Petersson  66  Stockholm  agneta.petersson@hotmail.com               t   \n",
      "4    Karlsson  36       Lund             agn.karl@yahoo.se               f   \n",
      "\n",
      "   ...  Stockholm Uppsala Västerås Örebro salary_bracket      0  1-75k  \\\n",
      "0  ...       True   False    False  False              0   True  False   \n",
      "1  ...      False   False    False  False          300K+  False  False   \n",
      "2  ...       True   False    False  False          300K+  False  False   \n",
      "3  ...       True   False    False  False        75-150K  False  False   \n",
      "4  ...      False   False    False  False      150K-300K  False  False   \n",
      "\n",
      "   75-150K  150K-300K  300K+  \n",
      "0    False      False  False  \n",
      "1    False      False   True  \n",
      "2    False      False   True  \n",
      "3     True      False  False  \n",
      "4    False       True  False  \n",
      "\n",
      "[5 rows x 55 columns]\n"
     ]
    }
   ],
   "source": [
    "print(fraud_data.head())\n",
    "pca = PCA()\n",
    "\n",
    "columns_to_drop = ['transaction_id', 'time_of_purchase', 'customer_id', 'fname', 'lname', 'addr_city', 'email', 'has_paid_before', 'type_of_goods', 'delivery_city', 'ip_country', 'is_fraud', 'is_fraud_enc', 'salary_bracket', 'annual_salary']\n",
    "X = fraud_data.drop(columns_to_drop, axis=1)\n",
    "y = fraud_data['is_fraud_enc']"
   ]
  },
  {
   "cell_type": "code",
   "execution_count": 13,
   "id": "3f0f941b-f7b2-4e8f-a69c-3d40089863ff",
   "metadata": {},
   "outputs": [],
   "source": [
    "#machine learning to figure which variables are most correlated to fraudulent orders\n",
    "X_train, X_test, y_train, y_test = train_test_split(X, y, test_size=0.3, stratify=y, random_state=1)"
   ]
  },
  {
   "cell_type": "raw",
   "id": "1a2aa731-2999-4541-91b9-1c4c25546ee5",
   "metadata": {},
   "source": [
    "\n",
    "steps = [(\"scaler\", StandardScaler()),\n",
    "         (\"logreg\", LogisticRegression())]\n",
    "pipeline = Pipeline(steps)\n",
    "\n",
    "X_train, X_test, y_train, y_test = train_test_split(X, y, test_size=0.3, stratify=y, random_state=1)\n",
    "\n",
    "pipeline.set_params(logreg__C=0.05357894736842105)\n",
    "pipeline.fit(X_train, y_train)\n",
    "print(confusion_matrix(y_test, y_pred))\n",
    "print(classification_report(y_test, y_pred))\n",
    "print(pipeline.score(X_test, y_test))"
   ]
  },
  {
   "cell_type": "code",
   "execution_count": 14,
   "id": "9dcfe259-4f57-453d-918c-3f16602b9c68",
   "metadata": {},
   "outputs": [
    {
     "name": "stdout",
     "output_type": "stream",
     "text": [
      "0.9662775616083009\n",
      "[[2924   14]\n",
      " [  90   56]]\n",
      "              precision    recall  f1-score   support\n",
      "\n",
      "           0       0.97      1.00      0.98      2938\n",
      "           1       0.80      0.38      0.52       146\n",
      "\n",
      "    accuracy                           0.97      3084\n",
      "   macro avg       0.89      0.69      0.75      3084\n",
      "weighted avg       0.96      0.97      0.96      3084\n",
      "\n"
     ]
    }
   ],
   "source": [
    "knn = KNeighborsClassifier(n_neighbors=2)\n",
    "knn.fit(X_train, y_train)\n",
    "print(knn.score(X_test, y_test))\n",
    "\n",
    "y_pred = knn.predict(X_test)\n",
    "print(confusion_matrix(y_test, y_pred))\n",
    "print(classification_report(y_test, y_pred))"
   ]
  },
  {
   "cell_type": "code",
   "execution_count": 15,
   "id": "62eae635-a13f-4800-abc1-fc6fc514bd83",
   "metadata": {},
   "outputs": [
    {
     "name": "stdout",
     "output_type": "stream",
     "text": [
      "0.9672503242542153\n",
      "[[2923   15]\n",
      " [  86   60]]\n",
      "              precision    recall  f1-score   support\n",
      "\n",
      "           0       0.97      0.99      0.98      2938\n",
      "           1       0.80      0.41      0.54       146\n",
      "\n",
      "    accuracy                           0.97      3084\n",
      "   macro avg       0.89      0.70      0.76      3084\n",
      "weighted avg       0.96      0.97      0.96      3084\n",
      "\n"
     ]
    }
   ],
   "source": [
    "##scale data to improve accuracy \n",
    "\n",
    "steps = [('scaler', StandardScaler()),\n",
    "         ('knn', KNeighborsClassifier(n_neighbors=2))]\n",
    "pipeline = Pipeline(steps)\n",
    "\n",
    "X_train, X_test, y_train, y_test = train_test_split(X, y, test_size=0.3, stratify=y, random_state=1)\n",
    "\n",
    "knn_scaled=pipeline.fit(X_train, y_train)\n",
    "y_pred = knn_scaled.predict(X_test)\n",
    "print(knn_scaled.score(X_test, y_test))\n",
    "\n",
    "print(confusion_matrix(y_test, y_pred))\n",
    "print(classification_report(y_test, y_pred))"
   ]
  },
  {
   "cell_type": "code",
   "execution_count": 30,
   "id": "96901872-fded-4cbb-a631-2dbda78a1e80",
   "metadata": {},
   "outputs": [
    {
     "name": "stdout",
     "output_type": "stream",
     "text": [
      "0.9649805447470817\n",
      "[[2894   44]\n",
      " [  64   82]]\n",
      "              precision    recall  f1-score   support\n",
      "\n",
      "           0       0.98      0.99      0.98      2938\n",
      "           1       0.65      0.56      0.60       146\n",
      "\n",
      "    accuracy                           0.96      3084\n",
      "   macro avg       0.81      0.77      0.79      3084\n",
      "weighted avg       0.96      0.96      0.96      3084\n",
      "\n"
     ]
    }
   ],
   "source": [
    "\n",
    "steps = [('scaler', StandardScaler()),\n",
    "         ('Decision Tree', DecisionTreeClassifier())]\n",
    "pipeline = Pipeline(steps)\n",
    "\n",
    "X_train, X_test, y_train, y_test = train_test_split(X, y, test_size=0.3, stratify=y, random_state=1)\n",
    "\n",
    "decision_scaled=pipeline.fit(X_train, y_train)\n",
    "y_pred = decision_scaled.predict(X_test)\n",
    "print(decision_scaled.score(X_test, y_test))\n",
    "\n",
    "print(confusion_matrix(y_test, y_pred))\n",
    "print(classification_report(y_test, y_pred))"
   ]
  },
  {
   "cell_type": "code",
   "execution_count": 33,
   "id": "66012f66-eb63-472f-a815-ad5f6a1cc71b",
   "metadata": {},
   "outputs": [
    {
     "data": {
      "image/png": "[encoded data removed]",
      "text/plain": [
       "<Figure size 640x480 with 1 Axes>"
      ]
     },
     "metadata": {},
     "output_type": "display_data"
    }
   ],
   "source": [
    "# Create a pd.Series of features importances\n",
    "importances_dt = pd.Series(decision_scaled.named_steps['Decision Tree'].feature_importances_, index=X.columns)\n",
    "\n",
    "# Sort importances_\n",
    "sorted_importances_dt = importances_dt.sort_values()\n",
    "\n",
    "# Make a horizontal bar plot\n",
    "sorted_importances_dt.plot(kind='barh', color='lightgreen')\n",
    "plt.xlabel('Importance')\n",
    "plt.ylabel('Feature')\n",
    "plt.title('Feature Importances in DecisionTreeClassifier')\n",
    "plt.show()"
   ]
  },
  {
   "cell_type": "code",
   "execution_count": 17,
   "id": "5e1fb344-8d1f-44ad-8c66-a710ac23d649",
   "metadata": {},
   "outputs": [
    {
     "name": "stdout",
     "output_type": "stream",
     "text": [
      "0.9694165415830224 \n",
      " {'logreg__C': 0.47421052631578947}\n",
      "[[2934   24]\n",
      " [  53   73]]\n",
      "              precision    recall  f1-score   support\n",
      "\n",
      "           0       0.98      0.99      0.99      2958\n",
      "           1       0.75      0.58      0.65       126\n",
      "\n",
      "    accuracy                           0.98      3084\n",
      "   macro avg       0.87      0.79      0.82      3084\n",
      "weighted avg       0.97      0.98      0.97      3084\n",
      "\n"
     ]
    }
   ],
   "source": [
    "##scale data to improve accuracy \n",
    "\n",
    "#Set up pipeline\n",
    "steps = [(\"scaler\", StandardScaler()),\n",
    "         (\"logreg\", LogisticRegression())]\n",
    "pipeline = Pipeline(steps)\n",
    "\n",
    "# Create the parameter space to test\n",
    "parameters = {\"logreg__C\": np.linspace(0.001, 1.0, num=20)}\n",
    "X_train, X_test, y_train, y_test = train_test_split(X, y, test_size=0.3, \n",
    "                                                    random_state=1)\n",
    "\n",
    "# Instantiate the grid search object\n",
    "cv = GridSearchCV(pipeline, param_grid=parameters)\n",
    "\n",
    "# Fit to the training data\n",
    "cv.fit(X_train, y_train)\n",
    "y_pred = cv.predict(X_test)\n",
    "print(cv.best_score_, \"\\n\", cv.best_params_)\n",
    "\n",
    "\n",
    "print(confusion_matrix(y_test, y_pred))\n",
    "print(classification_report(y_test, y_pred))"
   ]
  },
  {
   "cell_type": "code",
   "execution_count": 26,
   "id": "75a06b52-661d-433d-bb1e-83504b4448cc",
   "metadata": {},
   "outputs": [
    {
     "name": "stdout",
     "output_type": "stream",
     "text": [
      "0.9730869001297017\n",
      "[[2924   14]\n",
      " [  69   77]]\n",
      "              precision    recall  f1-score   support\n",
      "\n",
      "           0       0.98      1.00      0.99      2938\n",
      "           1       0.85      0.53      0.65       146\n",
      "\n",
      "    accuracy                           0.97      3084\n",
      "   macro avg       0.91      0.76      0.82      3084\n",
      "weighted avg       0.97      0.97      0.97      3084\n",
      "\n"
     ]
    }
   ],
   "source": [
    "steps = [('scaler', StandardScaler()),\n",
    "         ('Decision Tree', RandomForestClassifier())]\n",
    "pipeline = Pipeline(steps)\n",
    "\n",
    "X_train, X_test, y_train, y_test = train_test_split(X, y, test_size=0.3, stratify=y, random_state=1)\n",
    "\n",
    "decision_scaled=pipeline.fit(X_train, y_train)\n",
    "y_pred = decision_scaled.predict(X_test)\n",
    "print(decision_scaled.score(X_test, y_test))\n",
    "\n",
    "print(confusion_matrix(y_test, y_pred))\n",
    "print(classification_report(y_test, y_pred))"
   ]
  },
  {
   "cell_type": "code",
   "execution_count": 29,
   "id": "e8d9df87-55ec-4de6-83d6-d47f6fa982ad",
   "metadata": {},
   "outputs": [
    {
     "data": {
      "image/png": "[encoded data removed]",
      "text/plain": [
       "<Figure size 640x480 with 1 Axes>"
      ]
     },
     "metadata": {},
     "output_type": "display_data"
    }
   ],
   "source": [
    "# Create a pd.Series of features importances\n",
    "importances_rf = pd.Series(decision_scaled.named_steps['Decision Tree'].feature_importances_, index=X.columns)\n",
    "\n",
    "# Sort importances_\n",
    "sorted_importances_rf = importances_rf.sort_values()\n",
    "\n",
    "# Make a horizontal bar plot\n",
    "sorted_importances_rf.plot(kind='barh', color='lightgreen')\n",
    "plt.xlabel('Importance')\n",
    "plt.ylabel('Feature')\n",
    "plt.title('Feature Importances in RandomForestClassifier')\n",
    "plt.show()"
   ]
  },
  {
   "cell_type": "code",
   "execution_count": 19,
   "id": "e8ac30ba-3be5-47b3-8f0f-4a51040908bd",
   "metadata": {},
   "outputs": [
    {
     "name": "stdout",
     "output_type": "stream",
     "text": [
      "[ 1  2  3  4  5  6  7  8  9 10 11] \n",
      " {1: 1.0, 2: 0.9790073682747116, 3: 0.9751146948422077, 4: 0.972056165716669, 5: 0.9678854441818434, 6: 0.9653830112609482, 7: 0.9614903378284443, 8: 0.9609342416238009, 9: 0.9596830251633532, 10: 0.956207423884332, 11: 0.955234255526206} \n",
      " {1: 0.9601167315175098, 2: 0.9662775616083009, 3: 0.9591439688715954, 4: 0.9623865110246433, 5: 0.9562256809338522, 6: 0.9539559014267186, 7: 0.9523346303501945, 8: 0.9555771725032426, 9: 0.9539559014267186, 10: 0.9555771725032426, 11: 0.9539559014267186}\n"
     ]
    }
   ],
   "source": [
    "# To test optimum number of nearest neighbours\n",
    "neighbours = np.arange(1, 12)\n",
    "train_accuracies = {}\n",
    "test_accuracies = {}\n",
    "\n",
    "for neighbour in neighbours:\n",
    "  \n",
    "\t# Set up a KNN Classifier\n",
    "\tknn = KNeighborsClassifier(n_neighbors=neighbour)\n",
    "  \n",
    "\t# Fit the model\n",
    "\tknn.fit(X_train, y_train)\n",
    "  \n",
    "\t# Compute accuracy\n",
    "\ttrain_accuracies[neighbour] = knn.score(X_train, y_train)\n",
    "\ttest_accuracies[neighbour] = knn.score(X_test, y_test)\n",
    "print(neighbours, '\\n', train_accuracies, '\\n', test_accuracies)"
   ]
  },
  {
   "cell_type": "code",
   "execution_count": 20,
   "id": "cbcda8d4-bd5d-4b72-8c4f-41ad6fdee61b",
   "metadata": {},
   "outputs": [
    {
     "name": "stdout",
     "output_type": "stream",
     "text": [
      "[0.9713035  0.97081712 0.96934307 0.96155718 0.96934307]\n",
      "0.9684727863141053\n"
     ]
    }
   ],
   "source": [
    "kf = KFold(n_splits=5, shuffle=True, random_state=1)\n",
    "knn = KNeighborsClassifier(n_neighbors=2)\n",
    "cv_scores = cross_val_score(knn, X, y, cv=kf)\n",
    "print(cv_scores)\n",
    "print(np.mean(cv_scores))"
   ]
  },
  {
   "cell_type": "code",
   "execution_count": 21,
   "id": "62571ee6-8c73-4cf0-9d22-a39f7d6ce109",
   "metadata": {},
   "outputs": [
    {
     "name": "stdout",
     "output_type": "stream",
     "text": [
      "[[2924   14]\n",
      " [  90   56]]\n",
      "              precision    recall  f1-score   support\n",
      "\n",
      "           0       0.97      1.00      0.98      2938\n",
      "           1       0.80      0.38      0.52       146\n",
      "\n",
      "    accuracy                           0.97      3084\n",
      "   macro avg       0.89      0.69      0.75      3084\n",
      "weighted avg       0.96      0.97      0.96      3084\n",
      "\n"
     ]
    }
   ],
   "source": [
    "knn.fit(X_train, y_train)\n",
    "y_pred = knn.predict(X_test)\n",
    "print(confusion_matrix(y_test, y_pred))\n",
    "print(classification_report(y_test, y_pred))\n",
    "##precision score TP / TP + FP - Hit rate\n",
    "##recall score TP / TP + FN - Catch rate"
   ]
  },
  {
   "cell_type": "code",
   "execution_count": 22,
   "id": "c9c16fb1-08f5-48cd-a48f-ea75066f7091",
   "metadata": {},
   "outputs": [
    {
     "name": "stdout",
     "output_type": "stream",
     "text": [
      "[0.0011995  0.00034605 0.00036281 0.00235041 0.00363298 0.02000937\n",
      " 0.00185743 0.0002942  0.07138508 0.00130594]\n"
     ]
    },
    {
     "name": "stderr",
     "output_type": "stream",
     "text": [
      "/Users/darren.wong/Library/jupyterlab-desktop/jlab_server/lib/python3.8/site-packages/sklearn/linear_model/_logistic.py:460: ConvergenceWarning: lbfgs failed to converge (status=1):\n",
      "STOP: TOTAL NO. of ITERATIONS REACHED LIMIT.\n",
      "\n",
      "Increase the number of iterations (max_iter) or scale the data as shown in:\n",
      "    https://scikit-learn.org/stable/modules/preprocessing.html\n",
      "Please also refer to the documentation for alternative solver options:\n",
      "    https://scikit-learn.org/stable/modules/linear_model.html#logistic-regression\n",
      "  n_iter_i = _check_optimize_result(\n"
     ]
    }
   ],
   "source": [
    "## Try logistic regression modelling to improve catch rate\n",
    "X_train, X_test, y_train, y_test = train_test_split(X, y, test_size=0.3, stratify=y, random_state=1)\n",
    "logreg = LogisticRegression()\n",
    "logreg.fit(X_train, y_train)\n",
    "\n",
    "# Predict fraudulent probabilities\n",
    "y_pred_probs = logreg.predict_proba(X_test)[:, 1]\n",
    "\n",
    "print(y_pred_probs[:10])"
   ]
  },
  {
   "cell_type": "code",
   "execution_count": 23,
   "id": "c02aea4e-0eb2-45db-be05-15c3fe0ffe50",
   "metadata": {},
   "outputs": [
    {
     "data": {
      "image/png": "[encoded data removed]",
      "text/plain": [
       "<Figure size 640x480 with 1 Axes>"
      ]
     },
     "metadata": {},
     "output_type": "display_data"
    }
   ],
   "source": [
    "# Generate ROC curve values: fpr, tpr, thresholds\n",
    "fpr, tpr, thresholds = roc_curve(y_test, y_pred_probs)\n",
    "\n",
    "plt.plot([0, 1], [0, 1], 'k--')\n",
    "\n",
    "# Plot tpr against fpr\n",
    "plt.plot(fpr, tpr)\n",
    "plt.xlabel('False Positive Rate')\n",
    "plt.ylabel('True Positive Rate')\n",
    "plt.title('ROC Curve for Fraud Prediction')\n",
    "plt.show()"
   ]
  },
  {
   "cell_type": "code",
   "execution_count": 24,
   "id": "77aca7e0-dc27-4582-8d7c-1398993f7e25",
   "metadata": {},
   "outputs": [
    {
     "name": "stdout",
     "output_type": "stream",
     "text": [
      "0.9730177084401839\n",
      "[[2924   14]\n",
      " [  90   56]]\n",
      "              precision    recall  f1-score   support\n",
      "\n",
      "           0       0.97      1.00      0.98      2938\n",
      "           1       0.80      0.38      0.52       146\n",
      "\n",
      "    accuracy                           0.97      3084\n",
      "   macro avg       0.89      0.69      0.75      3084\n",
      "weighted avg       0.96      0.97      0.96      3084\n",
      "\n"
     ]
    }
   ],
   "source": [
    "# Calculate roc_auc_score\n",
    "print(roc_auc_score(y_test, y_pred_probs))\n",
    "\n",
    "# Calculate the confusion matrix\n",
    "print(confusion_matrix(y_test, y_pred))\n",
    "\n",
    "# Calculate the classification report\n",
    "print(classification_report(y_test, y_pred))"
   ]
  },
  {
   "cell_type": "code",
   "execution_count": 25,
   "id": "3eae061a-b41d-4b5c-be1c-6660a89adb96",
   "metadata": {},
   "outputs": [
    {
     "name": "stderr",
     "output_type": "stream",
     "text": [
      "/Users/darren.wong/Library/jupyterlab-desktop/jlab_server/lib/python3.8/site-packages/sklearn/linear_model/_logistic.py:460: ConvergenceWarning: lbfgs failed to converge (status=1):\n",
      "STOP: TOTAL NO. of ITERATIONS REACHED LIMIT.\n",
      "\n",
      "Increase the number of iterations (max_iter) or scale the data as shown in:\n",
      "    https://scikit-learn.org/stable/modules/preprocessing.html\n",
      "Please also refer to the documentation for alternative solver options:\n",
      "    https://scikit-learn.org/stable/modules/linear_model.html#logistic-regression\n",
      "  n_iter_i = _check_optimize_result(\n",
      "/Users/darren.wong/Library/jupyterlab-desktop/jlab_server/lib/python3.8/site-packages/sklearn/linear_model/_logistic.py:460: ConvergenceWarning: lbfgs failed to converge (status=1):\n",
      "STOP: TOTAL NO. of ITERATIONS REACHED LIMIT.\n",
      "\n",
      "Increase the number of iterations (max_iter) or scale the data as shown in:\n",
      "    https://scikit-learn.org/stable/modules/preprocessing.html\n",
      "Please also refer to the documentation for alternative solver options:\n",
      "    https://scikit-learn.org/stable/modules/linear_model.html#logistic-regression\n",
      "  n_iter_i = _check_optimize_result(\n",
      "/Users/darren.wong/Library/jupyterlab-desktop/jlab_server/lib/python3.8/site-packages/sklearn/linear_model/_logistic.py:460: ConvergenceWarning: lbfgs failed to converge (status=1):\n",
      "STOP: TOTAL NO. of ITERATIONS REACHED LIMIT.\n",
      "\n",
      "Increase the number of iterations (max_iter) or scale the data as shown in:\n",
      "    https://scikit-learn.org/stable/modules/preprocessing.html\n",
      "Please also refer to the documentation for alternative solver options:\n",
      "    https://scikit-learn.org/stable/modules/linear_model.html#logistic-regression\n",
      "  n_iter_i = _check_optimize_result(\n",
      "/Users/darren.wong/Library/jupyterlab-desktop/jlab_server/lib/python3.8/site-packages/sklearn/linear_model/_logistic.py:460: ConvergenceWarning: lbfgs failed to converge (status=1):\n",
      "STOP: TOTAL NO. of ITERATIONS REACHED LIMIT.\n",
      "\n",
      "Increase the number of iterations (max_iter) or scale the data as shown in:\n",
      "    https://scikit-learn.org/stable/modules/preprocessing.html\n",
      "Please also refer to the documentation for alternative solver options:\n",
      "    https://scikit-learn.org/stable/modules/linear_model.html#logistic-regression\n",
      "  n_iter_i = _check_optimize_result(\n",
      "/Users/darren.wong/Library/jupyterlab-desktop/jlab_server/lib/python3.8/site-packages/sklearn/linear_model/_logistic.py:460: ConvergenceWarning: lbfgs failed to converge (status=1):\n",
      "STOP: TOTAL NO. of ITERATIONS REACHED LIMIT.\n",
      "\n",
      "Increase the number of iterations (max_iter) or scale the data as shown in:\n",
      "    https://scikit-learn.org/stable/modules/preprocessing.html\n",
      "Please also refer to the documentation for alternative solver options:\n",
      "    https://scikit-learn.org/stable/modules/linear_model.html#logistic-regression\n",
      "  n_iter_i = _check_optimize_result(\n",
      "/Users/darren.wong/Library/jupyterlab-desktop/jlab_server/lib/python3.8/site-packages/sklearn/linear_model/_logistic.py:460: ConvergenceWarning: lbfgs failed to converge (status=1):\n",
      "STOP: TOTAL NO. of ITERATIONS REACHED LIMIT.\n",
      "\n",
      "Increase the number of iterations (max_iter) or scale the data as shown in:\n",
      "    https://scikit-learn.org/stable/modules/preprocessing.html\n",
      "Please also refer to the documentation for alternative solver options:\n",
      "    https://scikit-learn.org/stable/modules/linear_model.html#logistic-regression\n",
      "  n_iter_i = _check_optimize_result(\n",
      "/Users/darren.wong/Library/jupyterlab-desktop/jlab_server/lib/python3.8/site-packages/sklearn/linear_model/_logistic.py:460: ConvergenceWarning: lbfgs failed to converge (status=1):\n",
      "STOP: TOTAL NO. of ITERATIONS REACHED LIMIT.\n",
      "\n",
      "Increase the number of iterations (max_iter) or scale the data as shown in:\n",
      "    https://scikit-learn.org/stable/modules/preprocessing.html\n",
      "Please also refer to the documentation for alternative solver options:\n",
      "    https://scikit-learn.org/stable/modules/linear_model.html#logistic-regression\n",
      "  n_iter_i = _check_optimize_result(\n",
      "/Users/darren.wong/Library/jupyterlab-desktop/jlab_server/lib/python3.8/site-packages/sklearn/linear_model/_logistic.py:460: ConvergenceWarning: lbfgs failed to converge (status=1):\n",
      "STOP: TOTAL NO. of ITERATIONS REACHED LIMIT.\n",
      "\n",
      "Increase the number of iterations (max_iter) or scale the data as shown in:\n",
      "    https://scikit-learn.org/stable/modules/preprocessing.html\n",
      "Please also refer to the documentation for alternative solver options:\n",
      "    https://scikit-learn.org/stable/modules/linear_model.html#logistic-regression\n",
      "  n_iter_i = _check_optimize_result(\n"
     ]
    },
    {
     "name": "stdout",
     "output_type": "stream",
     "text": [
      "Tuned Logistic Regression paramaters: {'tol': 0.9387816326530612, 'penalty': 'l2', 'class_weight': {0: 0.8, 1: 0.2}, 'C': 0.7612244897959184}\n",
      "Tuned Logistic Regression Best Accuracy Score: 0.9603784307793719\n"
     ]
    },
    {
     "name": "stderr",
     "output_type": "stream",
     "text": [
      "/Users/darren.wong/Library/jupyterlab-desktop/jlab_server/lib/python3.8/site-packages/sklearn/linear_model/_logistic.py:460: ConvergenceWarning: lbfgs failed to converge (status=1):\n",
      "STOP: TOTAL NO. of ITERATIONS REACHED LIMIT.\n",
      "\n",
      "Increase the number of iterations (max_iter) or scale the data as shown in:\n",
      "    https://scikit-learn.org/stable/modules/preprocessing.html\n",
      "Please also refer to the documentation for alternative solver options:\n",
      "    https://scikit-learn.org/stable/modules/linear_model.html#logistic-regression\n",
      "  n_iter_i = _check_optimize_result(\n",
      "/Users/darren.wong/Library/jupyterlab-desktop/jlab_server/lib/python3.8/site-packages/sklearn/model_selection/_validation.py:425: FitFailedWarning: \n",
      "20 fits failed out of a total of 50.\n",
      "The score on these train-test partitions for these parameters will be set to nan.\n",
      "If these failures are not expected, you can try to debug them by setting error_score='raise'.\n",
      "\n",
      "Below are more details about the failures:\n",
      "--------------------------------------------------------------------------------\n",
      "20 fits failed with the following error:\n",
      "Traceback (most recent call last):\n",
      "  File \"/Users/darren.wong/Library/jupyterlab-desktop/jlab_server/lib/python3.8/site-packages/sklearn/model_selection/_validation.py\", line 729, in _fit_and_score\n",
      "    estimator.fit(X_train, y_train, **fit_params)\n",
      "  File \"/Users/darren.wong/Library/jupyterlab-desktop/jlab_server/lib/python3.8/site-packages/sklearn/base.py\", line 1152, in wrapper\n",
      "    return fit_method(estimator, *args, **kwargs)\n",
      "  File \"/Users/darren.wong/Library/jupyterlab-desktop/jlab_server/lib/python3.8/site-packages/sklearn/linear_model/_logistic.py\", line 1169, in fit\n",
      "    solver = _check_solver(self.solver, self.penalty, self.dual)\n",
      "  File \"/Users/darren.wong/Library/jupyterlab-desktop/jlab_server/lib/python3.8/site-packages/sklearn/linear_model/_logistic.py\", line 56, in _check_solver\n",
      "    raise ValueError(\n",
      "ValueError: Solver lbfgs supports only 'l2' or 'none' penalties, got l1 penalty.\n",
      "\n",
      "  warnings.warn(some_fits_failed_message, FitFailedWarning)\n",
      "/Users/darren.wong/Library/jupyterlab-desktop/jlab_server/lib/python3.8/site-packages/sklearn/model_selection/_search.py:979: UserWarning: One or more of the test scores are non-finite: [       nan 0.95565177        nan 0.91672522 0.96037843 0.95996109\n",
      " 0.96023906        nan        nan 0.91686392]\n",
      "  warnings.warn(\n",
      "/Users/darren.wong/Library/jupyterlab-desktop/jlab_server/lib/python3.8/site-packages/sklearn/linear_model/_logistic.py:460: ConvergenceWarning: lbfgs failed to converge (status=1):\n",
      "STOP: TOTAL NO. of ITERATIONS REACHED LIMIT.\n",
      "\n",
      "Increase the number of iterations (max_iter) or scale the data as shown in:\n",
      "    https://scikit-learn.org/stable/modules/preprocessing.html\n",
      "Please also refer to the documentation for alternative solver options:\n",
      "    https://scikit-learn.org/stable/modules/linear_model.html#logistic-regression\n",
      "  n_iter_i = _check_optimize_result(\n"
     ]
    }
   ],
   "source": [
    "## Tuning hyper parameters to improve accuracy - changing values of Regularization find optimum level not to over/under fit\n",
    "#param_grid = {\"alpha\": np.linspace(0.00001, 1, 20)}\n",
    "params = {\"penalty\": [\"l1\", \"l2\"],\n",
    "         \"tol\": np.linspace(0.0001, 1.0, 50),\n",
    "         \"C\": np.linspace(0.1, 1.0, 50),\n",
    "         \"class_weight\": [\"balanced\", {0:0.8, 1:0.2}]}\n",
    "logreg_cv = RandomizedSearchCV(logreg, params, cv=kf)\n",
    "logreg_cv.fit(X_train, y_train)\n",
    "print(\"Tuned Logistic Regression paramaters: {}\".format(logreg_cv.best_params_))\n",
    "print(\"Tuned Logistic Regression Best Accuracy Score: {}\".format(logreg_cv.best_score_))"
   ]
  },
  {
   "cell_type": "code",
   "execution_count": 64,
   "id": "bb3367d8-f8f6-4e6c-bb5e-af91481288a3",
   "metadata": {},
   "outputs": [
    {
     "data": {
      "image/png": "[encoded data removed]",
      "text/plain": [
       "<Figure size 640x480 with 1 Axes>"
      ]
     },
     "metadata": {},
     "output_type": "display_data"
    }
   ],
   "source": [
    "scaler = StandardScaler()\n",
    "pipeline = make_pipeline(scaler, pca)\n",
    "\n",
    "columns_to_drop1 = ['transaction_id', 'time_of_purchase', 'customer_id', 'fname', 'lname', 'addr_city', 'email', 'has_paid_before', 'type_of_goods', 'delivery_city', 'ip_country', 'is_fraud', 'salary_bracket', 'annual_salary']\n",
    "pca_fraud_data = fraud_data.drop(columns_to_drop1, axis=1)\n",
    "\n",
    "pipeline.fit(pca_fraud_data)\n",
    "features = range(pca.n_components_)\n",
    "plt.bar(features, pca.explained_variance_)\n",
    "plt.xlabel('PCA feature')\n",
    "plt.ylabel('variance')\n",
    "plt.xticks(features, rotation=90, fontsize=8)  # Rotate x-axis tick labels by 90 degrees\n",
    "plt.show()\n"
   ]
  },
  {
   "cell_type": "code",
   "execution_count": null,
   "id": "6fc751b5-a9ec-405b-8ac4-8bf8d70886d4",
   "metadata": {},
   "outputs": [],
   "source": [
    "classifiers = [('Logistic Regression', lr),\n",
    "               ('K Nearest Neighbours', knn),\n",
    "               ('Classification Tree', dt)]\n",
    "\n",
    "#train test split and standardize data initially before using VC, stratify yes and use hyper parameters from previous i.e. n_neighbors = 2 etc\n",
    "\n",
    "for clf_name, clf in classifiers:\n",
    "    clf.fit(X_train, y_train)\n",
    "    y_pred = clf.predict(X_test)\n",
    "\n",
    "print('{:s} : {:.3f}'.format(clf_name, accuracy_score(y_test, y_pred)))"
   ]
  },
  {
   "cell_type": "code",
   "execution_count": null,
   "id": "85fc0336-f68e-4427-afcf-f4a5f00b3abe",
   "metadata": {},
   "outputs": [],
   "source": [
    "# Create a votingclassifier of the 3 best models to use on set\n",
    "vc = VotingClassifier(estimators=classifiers)\n",
    "vc.fit(X_train, y_train)\n",
    "y_pred = vc.predict(X_test)\n",
    "\n",
    "print('Voting Classifier: {.3f}'.format(accuracy_score(y_test, y_pred)))"
   ]
  },
  {
   "cell_type": "code",
   "execution_count": 67,
   "id": "7dbdf89a-b6c4-4bf8-aacb-a35631bbb7a6",
   "metadata": {},
   "outputs": [
    {
     "name": "stdout",
     "output_type": "stream",
     "text": [
      "   transaction_id time_of_purchase  purchase_amount customer_id   fname  \\\n",
      "0         2001563  0 days 16:52:11            15249        3941  Agneta   \n",
      "2         2013263  0 days 12:26:00             8744       25977  Agneta   \n",
      "5         2032763  0 days 16:20:38             4485       19884  Agneta   \n",
      "6         1991163  0 days 20:46:27             4275      119430  Agneta   \n",
      "8         1996363  0 days 11:05:36             3948      113040  Agneta   \n",
      "\n",
      "      lname age  addr_city                        email has_paid_before  ...  \\\n",
      "0   Jansson  28  Stockholm   agneta.jansson@hotmail.com               t  ...   \n",
      "2  Olofsson  60  Stockholm  agneta.olofsson@hotmail.com               t  ...   \n",
      "5   Sjoberg  52  Stockholm   agneta.sjoberg@hotmail.com               t  ...   \n",
      "6  Eriksson  40  Stockholm             ojr16tfv@live.se               f  ...   \n",
      "8  Svensson  25   Västerås     agn_svensson@hotmail.com               t  ...   \n",
      "\n",
      "   Stockholm Uppsala Västerås Örebro salary_bracket      0  1-75k  75-150K  \\\n",
      "0       True   False    False  False              0   True  False    False   \n",
      "2       True   False    False  False          300K+  False  False    False   \n",
      "5       True   False    False  False          300K+  False  False    False   \n",
      "6       True   False    False  False        75-150K  False  False     True   \n",
      "8      False   False     True  False      150K-300K  False  False    False   \n",
      "\n",
      "   150K-300K  300K+  \n",
      "0      False  False  \n",
      "2      False   True  \n",
      "5      False   True  \n",
      "6      False  False  \n",
      "8       True  False  \n",
      "\n",
      "[5 rows x 55 columns]\n"
     ]
    }
   ],
   "source": [
    "##subset clothing type of goods\n",
    "clothing = fraud_data[fraud_data['type_of_goods'] == 'Clothing']\n",
    "print(clothing.head())"
   ]
  },
  {
   "cell_type": "code",
   "execution_count": null,
   "id": "3e814402-4e21-44af-a8fe-8e0b3ec9a4a1",
   "metadata": {},
   "outputs": [],
   "source": [
    "print(clothing['is_fraud'].describe())"
   ]
  },
  {
   "cell_type": "code",
   "execution_count": null,
   "id": "eadd03dd-e7e6-4b0d-9900-06f1222c4374",
   "metadata": {},
   "outputs": [],
   "source": [
    "proportion_fraud_clothing = (clothing[clothing['is_fraud'] == 't'].count()) / (clothing['is_fraud'].count())\n",
    "print(proportion_fraud_clothing['is_fraud'])"
   ]
  },
  {
   "cell_type": "code",
   "execution_count": null,
   "id": "6887aa54-aa28-4b8e-8ea3-70d0b318113f",
   "metadata": {},
   "outputs": [],
   "source": [
    "fraudulent_orders = fraud_data[fraud_data['is_fraud'] == 't']\n",
    "print(fraudulent_orders.head())\n"
   ]
  },
  {
   "cell_type": "code",
   "execution_count": null,
   "id": "623f7159-e9ec-4bc8-8626-26db8f0f4397",
   "metadata": {},
   "outputs": [],
   "source": [
    "\n",
    "pivot = fraudulent_orders.pivot_table(index=['type_of_goods', 'has_paid_before', 'delivery_city'], values='purchase_amount', aggfunc='sum')\n",
    "print(pivot)"
   ]
  },
  {
   "cell_type": "code",
   "execution_count": null,
   "id": "74b9fe90-515a-4725-bc8d-3293747080b2",
   "metadata": {},
   "outputs": [],
   "source": [
    "fraud_yes = fraud_data[fraud_data['is_fraud'] == \"t\"]"
   ]
  },
  {
   "cell_type": "code",
   "execution_count": null,
   "id": "f520bbf3-0adf-475a-a7d4-2b27bf693a2b",
   "metadata": {},
   "outputs": [],
   "source": [
    "print(fraud_yes.describe())"
   ]
  },
  {
   "cell_type": "code",
   "execution_count": 11,
   "id": "8c7c204a-c5e8-4919-9971-0768cb3482f3",
   "metadata": {},
   "outputs": [
    {
     "ename": "NameError",
     "evalue": "name 'fraud_yes' is not defined",
     "output_type": "error",
     "traceback": [
      "\u001b[0;31m---------------------------------------------------------------------------\u001b[0m",
      "\u001b[0;31mNameError\u001b[0m                                 Traceback (most recent call last)",
      "Cell \u001b[0;32mIn[11], line 6\u001b[0m\n\u001b[1;32m      3\u001b[0m \u001b[38;5;28;01mdef\u001b[39;00m \u001b[38;5;21mget_hour\u001b[39m(time):\n\u001b[1;32m      4\u001b[0m     \u001b[38;5;28;01mreturn\u001b[39;00m datetime\u001b[38;5;241m.\u001b[39mstrptime(time, \u001b[38;5;124m\"\u001b[39m\u001b[38;5;124m%\u001b[39m\u001b[38;5;124mH:\u001b[39m\u001b[38;5;124m%\u001b[39m\u001b[38;5;124mM:\u001b[39m\u001b[38;5;124m%\u001b[39m\u001b[38;5;124mS\u001b[39m\u001b[38;5;124m\"\u001b[39m)\u001b[38;5;241m.\u001b[39mhour\n\u001b[0;32m----> 6\u001b[0m fraud_yes[\u001b[38;5;124m'\u001b[39m\u001b[38;5;124mtime_of_purchase\u001b[39m\u001b[38;5;124m'\u001b[39m] \u001b[38;5;241m=\u001b[39m \u001b[43mfraud_yes\u001b[49m[\u001b[38;5;124m'\u001b[39m\u001b[38;5;124mtime_of_purchase\u001b[39m\u001b[38;5;124m'\u001b[39m]\u001b[38;5;241m.\u001b[39mapply(get_hour)\n",
      "\u001b[0;31mNameError\u001b[0m: name 'fraud_yes' is not defined"
     ]
    }
   ],
   "source": [
    "## fraud_data['amount'] crosstab with categories?\n",
    "\n",
    "def get_hour(time):\n",
    "    return datetime.strptime(time, \"%H:%M:%S\").hour\n",
    "\n",
    "fraud_yes['time_of_purchase'] = fraud_yes['time_of_purchase'].apply(get_hour)\n",
    "\n",
    "\n"
   ]
  },
  {
   "cell_type": "code",
   "execution_count": 12,
   "id": "58e14aea-789a-44e9-8161-eec85160171c",
   "metadata": {},
   "outputs": [
    {
     "ename": "NameError",
     "evalue": "name 'fraud_yes' is not defined",
     "output_type": "error",
     "traceback": [
      "\u001b[0;31m---------------------------------------------------------------------------\u001b[0m",
      "\u001b[0;31mNameError\u001b[0m                                 Traceback (most recent call last)",
      "Cell \u001b[0;32mIn[12], line 1\u001b[0m\n\u001b[0;32m----> 1\u001b[0m \u001b[38;5;28mprint\u001b[39m(\u001b[43mfraud_yes\u001b[49m[\u001b[38;5;124m'\u001b[39m\u001b[38;5;124mtime_of_purchase\u001b[39m\u001b[38;5;124m'\u001b[39m]\u001b[38;5;241m.\u001b[39mvalue_counts())\n",
      "\u001b[0;31mNameError\u001b[0m: name 'fraud_yes' is not defined"
     ]
    }
   ],
   "source": [
    "print(fraud_yes['time_of_purchase'].value_counts())"
   ]
  },
  {
   "cell_type": "code",
   "execution_count": 13,
   "id": "9f050a16-7608-4f8c-a6c4-62c75fdddd0b",
   "metadata": {},
   "outputs": [
    {
     "ename": "NameError",
     "evalue": "name 'fraud_yes' is not defined",
     "output_type": "error",
     "traceback": [
      "\u001b[0;31m---------------------------------------------------------------------------\u001b[0m",
      "\u001b[0;31mNameError\u001b[0m                                 Traceback (most recent call last)",
      "Cell \u001b[0;32mIn[13], line 2\u001b[0m\n\u001b[1;32m      1\u001b[0m hour_bins \u001b[38;5;241m=\u001b[39m np\u001b[38;5;241m.\u001b[39marange(\u001b[38;5;241m0\u001b[39m, \u001b[38;5;241m25\u001b[39m)\n\u001b[0;32m----> 2\u001b[0m \u001b[43mfraud_yes\u001b[49m\u001b[38;5;241m.\u001b[39mhist(column\u001b[38;5;241m=\u001b[39m\u001b[38;5;124m'\u001b[39m\u001b[38;5;124mtime_of_purchase\u001b[39m\u001b[38;5;124m'\u001b[39m, bins\u001b[38;5;241m=\u001b[39m\u001b[38;5;241m24\u001b[39m, \u001b[38;5;28mrange\u001b[39m\u001b[38;5;241m=\u001b[39m(\u001b[38;5;241m0\u001b[39m,\u001b[38;5;241m24\u001b[39m))\n\u001b[1;32m      3\u001b[0m sns\u001b[38;5;241m.\u001b[39mhistplot(data\u001b[38;5;241m=\u001b[39mfraud_yes, x\u001b[38;5;241m=\u001b[39m\u001b[38;5;124m'\u001b[39m\u001b[38;5;124mtime_of_purchase\u001b[39m\u001b[38;5;124m'\u001b[39m, bins\u001b[38;5;241m=\u001b[39m\u001b[38;5;241m24\u001b[39m)\n\u001b[1;32m      5\u001b[0m ax \u001b[38;5;241m=\u001b[39m plt\u001b[38;5;241m.\u001b[39mgca()\n",
      "\u001b[0;31mNameError\u001b[0m: name 'fraud_yes' is not defined"
     ]
    }
   ],
   "source": [
    "\n",
    "\n",
    "hour_bins = np.arange(0, 25)\n",
    "fraud_yes.hist(column='time_of_purchase', bins=24, range=(0,24))\n",
    "sns.histplot(data=fraud_yes, x='time_of_purchase', bins=24)\n",
    "\n",
    "ax = plt.gca()\n",
    "# Set the x-axis ticks to be at the hours and labels to be the corresponding hour strings\n",
    "ax.set_xticks(hour_bins[:])  \n",
    "ax.set_xticklabels(map(str, hour_bins[:]))  # Convert hour values to strings for labels\n",
    "\n",
    "# You may also want to add grid, labels, and title\n",
    "ax.grid(axis='y', alpha=0.75)\n",
    "ax.set_xlabel('Hour of the Day')\n",
    "ax.set_ylabel('Frequency')\n",
    "ax.set_title('Time of Purchase')\n",
    "plt.show()"
   ]
  },
  {
   "cell_type": "code",
   "execution_count": 14,
   "id": "270274a7-4bbf-4377-a017-235e2c38e72b",
   "metadata": {},
   "outputs": [],
   "source": [
    "#proportions of fraud \n",
    "props_type = fraud_data.groupby('is_fraud')['type_of_goods'].value_counts(normalize=True)\n",
    "props_city = fraud_data.groupby('is_fraud')['delivery_city'].value_counts(normalize=True)\n",
    "\n"
   ]
  },
  {
   "cell_type": "code",
   "execution_count": 15,
   "id": "585897de-a407-48c5-b7c0-0f25497ef033",
   "metadata": {},
   "outputs": [
    {
     "ename": "TypeError",
     "evalue": "dtype timedelta64[ns] cannot be converted to datetime64[ns]",
     "output_type": "error",
     "traceback": [
      "\u001b[0;31m---------------------------------------------------------------------------\u001b[0m",
      "\u001b[0;31mTypeError\u001b[0m                                 Traceback (most recent call last)",
      "Cell \u001b[0;32mIn[15], line 1\u001b[0m\n\u001b[0;32m----> 1\u001b[0m fraud_data[\u001b[38;5;124m'\u001b[39m\u001b[38;5;124mtime_of_purchase\u001b[39m\u001b[38;5;124m'\u001b[39m] \u001b[38;5;241m=\u001b[39m \u001b[43mpd\u001b[49m\u001b[38;5;241;43m.\u001b[39;49m\u001b[43mto_datetime\u001b[49m\u001b[43m(\u001b[49m\u001b[43mfraud_data\u001b[49m\u001b[43m[\u001b[49m\u001b[38;5;124;43m'\u001b[39;49m\u001b[38;5;124;43mtime_of_purchase\u001b[39;49m\u001b[38;5;124;43m'\u001b[39;49m\u001b[43m]\u001b[49m\u001b[43m,\u001b[49m\u001b[43m \u001b[49m\u001b[38;5;28;43mformat\u001b[39;49m\u001b[38;5;241;43m=\u001b[39;49m\u001b[38;5;124;43m'\u001b[39;49m\u001b[38;5;124;43m%\u001b[39;49m\u001b[38;5;124;43mH:\u001b[39;49m\u001b[38;5;124;43m%\u001b[39;49m\u001b[38;5;124;43mM:\u001b[39;49m\u001b[38;5;124;43m%\u001b[39;49m\u001b[38;5;124;43mS\u001b[39;49m\u001b[38;5;124;43m'\u001b[39;49m\u001b[43m)\u001b[49m\u001b[38;5;241m.\u001b[39mdt\u001b[38;5;241m.\u001b[39mstrftime(\u001b[38;5;124m'\u001b[39m\u001b[38;5;124m%\u001b[39m\u001b[38;5;124mH:\u001b[39m\u001b[38;5;124m%\u001b[39m\u001b[38;5;124mM\u001b[39m\u001b[38;5;124m'\u001b[39m)\n",
      "File \u001b[0;32m~/Library/jupyterlab-desktop/jlab_server/lib/python3.8/site-packages/pandas/core/tools/datetimes.py:1046\u001b[0m, in \u001b[0;36mto_datetime\u001b[0;34m(arg, errors, dayfirst, yearfirst, utc, format, exact, unit, infer_datetime_format, origin, cache)\u001b[0m\n\u001b[1;32m   1044\u001b[0m             result \u001b[38;5;241m=\u001b[39m arg\u001b[38;5;241m.\u001b[39mtz_localize(\u001b[38;5;124m\"\u001b[39m\u001b[38;5;124mutc\u001b[39m\u001b[38;5;124m\"\u001b[39m)\n\u001b[1;32m   1045\u001b[0m \u001b[38;5;28;01melif\u001b[39;00m \u001b[38;5;28misinstance\u001b[39m(arg, ABCSeries):\n\u001b[0;32m-> 1046\u001b[0m     cache_array \u001b[38;5;241m=\u001b[39m \u001b[43m_maybe_cache\u001b[49m\u001b[43m(\u001b[49m\u001b[43marg\u001b[49m\u001b[43m,\u001b[49m\u001b[43m \u001b[49m\u001b[38;5;28;43mformat\u001b[39;49m\u001b[43m,\u001b[49m\u001b[43m \u001b[49m\u001b[43mcache\u001b[49m\u001b[43m,\u001b[49m\u001b[43m \u001b[49m\u001b[43mconvert_listlike\u001b[49m\u001b[43m)\u001b[49m\n\u001b[1;32m   1047\u001b[0m     \u001b[38;5;28;01mif\u001b[39;00m \u001b[38;5;129;01mnot\u001b[39;00m cache_array\u001b[38;5;241m.\u001b[39mempty:\n\u001b[1;32m   1048\u001b[0m         result \u001b[38;5;241m=\u001b[39m arg\u001b[38;5;241m.\u001b[39mmap(cache_array)\n",
      "File \u001b[0;32m~/Library/jupyterlab-desktop/jlab_server/lib/python3.8/site-packages/pandas/core/tools/datetimes.py:250\u001b[0m, in \u001b[0;36m_maybe_cache\u001b[0;34m(arg, format, cache, convert_listlike)\u001b[0m\n\u001b[1;32m    248\u001b[0m unique_dates \u001b[38;5;241m=\u001b[39m unique(arg)\n\u001b[1;32m    249\u001b[0m \u001b[38;5;28;01mif\u001b[39;00m \u001b[38;5;28mlen\u001b[39m(unique_dates) \u001b[38;5;241m<\u001b[39m \u001b[38;5;28mlen\u001b[39m(arg):\n\u001b[0;32m--> 250\u001b[0m     cache_dates \u001b[38;5;241m=\u001b[39m \u001b[43mconvert_listlike\u001b[49m\u001b[43m(\u001b[49m\u001b[43munique_dates\u001b[49m\u001b[43m,\u001b[49m\u001b[43m \u001b[49m\u001b[38;5;28;43mformat\u001b[39;49m\u001b[43m)\u001b[49m\n\u001b[1;32m    251\u001b[0m     \u001b[38;5;66;03m# GH#45319\u001b[39;00m\n\u001b[1;32m    252\u001b[0m     \u001b[38;5;28;01mtry\u001b[39;00m:\n",
      "File \u001b[0;32m~/Library/jupyterlab-desktop/jlab_server/lib/python3.8/site-packages/pandas/core/tools/datetimes.py:436\u001b[0m, in \u001b[0;36m_convert_listlike_datetimes\u001b[0;34m(arg, format, name, utc, unit, errors, dayfirst, yearfirst, exact)\u001b[0m\n\u001b[1;32m    433\u001b[0m \u001b[38;5;66;03m# warn if passing timedelta64, raise for PeriodDtype\u001b[39;00m\n\u001b[1;32m    434\u001b[0m \u001b[38;5;66;03m# NB: this must come after unit transformation\u001b[39;00m\n\u001b[1;32m    435\u001b[0m \u001b[38;5;28;01mtry\u001b[39;00m:\n\u001b[0;32m--> 436\u001b[0m     arg, _ \u001b[38;5;241m=\u001b[39m \u001b[43mmaybe_convert_dtype\u001b[49m\u001b[43m(\u001b[49m\u001b[43marg\u001b[49m\u001b[43m,\u001b[49m\u001b[43m \u001b[49m\u001b[43mcopy\u001b[49m\u001b[38;5;241;43m=\u001b[39;49m\u001b[38;5;28;43;01mFalse\u001b[39;49;00m\u001b[43m,\u001b[49m\u001b[43m \u001b[49m\u001b[43mtz\u001b[49m\u001b[38;5;241;43m=\u001b[39;49m\u001b[43mlibtimezones\u001b[49m\u001b[38;5;241;43m.\u001b[39;49m\u001b[43mmaybe_get_tz\u001b[49m\u001b[43m(\u001b[49m\u001b[43mtz\u001b[49m\u001b[43m)\u001b[49m\u001b[43m)\u001b[49m\n\u001b[1;32m    437\u001b[0m \u001b[38;5;28;01mexcept\u001b[39;00m \u001b[38;5;167;01mTypeError\u001b[39;00m:\n\u001b[1;32m    438\u001b[0m     \u001b[38;5;28;01mif\u001b[39;00m errors \u001b[38;5;241m==\u001b[39m \u001b[38;5;124m\"\u001b[39m\u001b[38;5;124mcoerce\u001b[39m\u001b[38;5;124m\"\u001b[39m:\n",
      "File \u001b[0;32m~/Library/jupyterlab-desktop/jlab_server/lib/python3.8/site-packages/pandas/core/arrays/datetimes.py:2243\u001b[0m, in \u001b[0;36mmaybe_convert_dtype\u001b[0;34m(data, copy, tz)\u001b[0m\n\u001b[1;32m   2239\u001b[0m     copy \u001b[38;5;241m=\u001b[39m \u001b[38;5;28;01mFalse\u001b[39;00m\n\u001b[1;32m   2241\u001b[0m \u001b[38;5;28;01melif\u001b[39;00m is_timedelta64_dtype(data\u001b[38;5;241m.\u001b[39mdtype) \u001b[38;5;129;01mor\u001b[39;00m is_bool_dtype(data\u001b[38;5;241m.\u001b[39mdtype):\n\u001b[1;32m   2242\u001b[0m     \u001b[38;5;66;03m# GH#29794 enforcing deprecation introduced in GH#23539\u001b[39;00m\n\u001b[0;32m-> 2243\u001b[0m     \u001b[38;5;28;01mraise\u001b[39;00m \u001b[38;5;167;01mTypeError\u001b[39;00m(\u001b[38;5;124mf\u001b[39m\u001b[38;5;124m\"\u001b[39m\u001b[38;5;124mdtype \u001b[39m\u001b[38;5;132;01m{\u001b[39;00mdata\u001b[38;5;241m.\u001b[39mdtype\u001b[38;5;132;01m}\u001b[39;00m\u001b[38;5;124m cannot be converted to datetime64[ns]\u001b[39m\u001b[38;5;124m\"\u001b[39m)\n\u001b[1;32m   2244\u001b[0m \u001b[38;5;28;01melif\u001b[39;00m is_period_dtype(data\u001b[38;5;241m.\u001b[39mdtype):\n\u001b[1;32m   2245\u001b[0m     \u001b[38;5;66;03m# Note: without explicitly raising here, PeriodIndex\u001b[39;00m\n\u001b[1;32m   2246\u001b[0m     \u001b[38;5;66;03m#  test_setops.test_join_does_not_recur fails\u001b[39;00m\n\u001b[1;32m   2247\u001b[0m     \u001b[38;5;28;01mraise\u001b[39;00m \u001b[38;5;167;01mTypeError\u001b[39;00m(\n\u001b[1;32m   2248\u001b[0m         \u001b[38;5;124m\"\u001b[39m\u001b[38;5;124mPassing PeriodDtype data is invalid. Use `data.to_timestamp()` instead\u001b[39m\u001b[38;5;124m\"\u001b[39m\n\u001b[1;32m   2249\u001b[0m     )\n",
      "\u001b[0;31mTypeError\u001b[0m: dtype timedelta64[ns] cannot be converted to datetime64[ns]"
     ]
    }
   ],
   "source": [
    "fraud_data['time_of_purchase'] = pd.to_datetime(fraud_data['time_of_purchase'], format='%H:%M:%S').dt.strftime('%H:%M')"
   ]
  },
  {
   "cell_type": "code",
   "execution_count": 16,
   "id": "82168156-a0f7-43c9-b418-ba8b6f839c55",
   "metadata": {},
   "outputs": [
    {
     "name": "stdout",
     "output_type": "stream",
     "text": [
      "0   0 days 16:52:11\n",
      "1   0 days 14:20:45\n",
      "2   0 days 12:26:00\n",
      "3   0 days 15:13:01\n",
      "4   0 days 16:08:04\n",
      "Name: time_of_purchase, dtype: timedelta64[ns]\n"
     ]
    }
   ],
   "source": [
    "print(fraud_data['time_of_purchase'].head())\n"
   ]
  },
  {
   "cell_type": "code",
   "execution_count": 17,
   "id": "44b6bd4b-7c52-4f90-8e6e-929f62ef18b3",
   "metadata": {},
   "outputs": [
    {
     "data": {
      "text/plain": [
       "<Axes: >"
      ]
     },
     "execution_count": 17,
     "metadata": {},
     "output_type": "execute_result"
    },
    {
     "data": {
      "image/png": "[encoded data removed]",
      "text/plain": [
       "<Figure size 640x480 with 1 Axes>"
      ]
     },
     "metadata": {},
     "output_type": "display_data"
    }
   ],
   "source": [
    "sns.countplot(x='time_of_purchase', data=(fraud_data[fraud_data['is_fraud'] == 't']))"
   ]
  },
  {
   "cell_type": "code",
   "execution_count": null,
   "id": "26832cbe-a2d5-4cd0-ac39-9576d8667a3e",
   "metadata": {},
   "outputs": [],
   "source": []
  }
 ],
 "metadata": {
  "kernelspec": {
   "display_name": "Python 3 (ipykernel)",
   "language": "python",
   "name": "python3"
  },
  "language_info": {
   "codemirror_mode": {
    "name": "ipython",
    "version": 3
   },
   "file_extension": ".py",
   "mimetype": "text/x-python",
   "name": "python",
   "nbconvert_exporter": "python",
   "pygments_lexer": "ipython3",
   "version": "3.11.7"
  }
 },
 "nbformat": 4,
 "nbformat_minor": 5
}
